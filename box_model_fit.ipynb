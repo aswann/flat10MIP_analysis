{
 "cells": [
  {
   "cell_type": "markdown",
   "id": "16ae5b70-3839-4483-8dee-a0aa68e0cdf9",
   "metadata": {},
   "source": [
    "# simple model emulators of each ESM"
   ]
  },
  {
   "cell_type": "markdown",
   "id": "173565a4-80a9-4062-9edc-3b7795aaa218",
   "metadata": {},
   "source": [
    "Can we emulate land carbon sink?\n",
    "\n",
    "Use a box model framework and fit the parameters to each ESM\n",
    "\n",
    "fit using ZEC, test using CDR\n",
    "\n",
    "\n",
    "### Box Model\n",
    "\n"
   ]
  },
  {
   "cell_type": "code",
   "execution_count": null,
   "id": "8320d806-e78b-4ffa-8e6f-8c95a34ae75d",
   "metadata": {},
   "outputs": [],
   "source": [
    "import numpy as np\n",
    "import numpy.matlib\n",
    "import numpy.ma as ma\n",
    "\n",
    "import xarray as xr\n",
    "xr.set_options(enable_cftimeindex=True)\n",
    "\n",
    "import time\n",
    "import cftime\n",
    "import netCDF4 as nc\n",
    "from datetime import timedelta\n",
    "\n",
    "import pandas as pd\n",
    "\n",
    "#import xcdat\n",
    "\n",
    "import matplotlib as mpl\n",
    "import matplotlib.pyplot as plt\n",
    "\n",
    "#import cartopy.crs as ccrs\n",
    "#from cartopy.util import add_cyclic_point\n",
    "\n",
    "import glob\n",
    "\n",
    "\n",
    "## notes on packages to add to this kernel\n",
    "import nc_time_axis\n",
    "import cartopy.crs as ccrs\n",
    "import cartopy"
   ]
  }
 ],
 "metadata": {
  "kernelspec": {
   "display_name": "Python 3 (ipykernel)",
   "language": "python",
   "name": "python3"
  },
  "language_info": {
   "codemirror_mode": {
    "name": "ipython",
    "version": 3
   },
   "file_extension": ".py",
   "mimetype": "text/x-python",
   "name": "python",
   "nbconvert_exporter": "python",
   "pygments_lexer": "ipython3",
   "version": "3.10.13"
  }
 },
 "nbformat": 4,
 "nbformat_minor": 5
}
