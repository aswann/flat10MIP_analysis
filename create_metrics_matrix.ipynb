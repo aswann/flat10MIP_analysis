{
 "cells": [
  {
   "cell_type": "markdown",
   "id": "77a79026-91c6-47fc-9568-1e2194f451b9",
   "metadata": {},
   "source": [
    "## Analysis of flat10MIP output"
   ]
  },
  {
   "cell_type": "code",
   "execution_count": 1,
   "id": "fe833992-dd45-42c8-b7f3-39dba265c2ed",
   "metadata": {},
   "outputs": [],
   "source": [
    "import numpy as np\n",
    "import numpy.matlib\n",
    "import numpy.ma as ma\n",
    "\n",
    "import xarray as xr\n",
    "#xr.set_options(enable_cftimeindex=True)\n",
    "\n",
    "import time\n",
    "import cftime\n",
    "import netCDF4 as nc\n",
    "from datetime import timedelta\n",
    "\n",
    "import pandas as pd\n",
    "\n",
    "#import xcdat\n",
    "\n",
    "import matplotlib as mpl\n",
    "import matplotlib.pyplot as plt\n",
    "\n",
    "#import cartopy.crs as ccrs\n",
    "#from cartopy.util import add_cyclic_point\n",
    "\n",
    "import glob\n",
    "\n",
    "\n",
    "## notes on packages to add to this kernel\n",
    "import nc_time_axis\n",
    "import cartopy.crs as ccrs\n",
    "import cartopy"
   ]
  },
  {
   "cell_type": "code",
   "execution_count": 2,
   "id": "214e5dd7-fbc1-41fe-9462-63dc34f8559b",
   "metadata": {},
   "outputs": [],
   "source": [
    "# load custom functions for analyzing flat10\n",
    "\n",
    "from loading_function_flat10 import load_flat10, load_grid, select_time_slice, weighted_temporal_mean "
   ]
  },
  {
   "cell_type": "markdown",
   "id": "50e42a56-df71-4b0b-b51e-9fbbc1ff390c",
   "metadata": {},
   "source": [
    "### Data location\n",
    "\n",
    "Data downloaded for nird.sigma2.no to /glade/campaign/cgd/tss/people/aswann/flat10/\n",
    "\n",
    "#### Models\n",
    "Models with output:  \n",
    "ACCESS-ESM1-5  \n",
    "CESM2  \n",
    "CNRM-ESM2-1  \n",
    "GFDL-ESM4  \n",
    "GISS_E2.1  \n",
    "NorESM2-LM  \n",
    "MPI-ESM1-2-LR \n",
    "\n",
    "Directory structures within each model folder vary - need to account for this \n",
    "\n",
    "#### Experiments\n",
    "flat10: 200 years at 10Pg/yr  \n",
    "flat10_zec: branches from flat10 at 100 years, zero emissions for 200 years  \n",
    "flat10_cdr: branches from flat10 at 100 years, ramps down to negative 10 Pg/yr over 100 years, continues at zero emissions for 100 years (until 200 years past flat10)\n",
    "\n",
    "Total length of each simulation on its own: 200 years\n",
    "\n",
    "#### Time indexing\n",
    "Each model did it's time indexing in a different way. Need to account for all of the different calendars.\n",
    "\n",
    "#### Missing files\n",
    "The catalog of all CMIP files on glade is at:  \n",
    "catalog_file = '/glade/collections/cmip/catalog/intake-esm-datastore/catalogs/glade-cmip6.csv.gz'\n",
    "\n",
    "GISS is missing the land fraction data (sftlf) and cell area data (areacella, areacello)\n",
    "I tried to find matching grid files on NCAR, but none of the GISS models matched in resolution\n",
    "Ended up downloading grid files from PCMDI"
   ]
  },
  {
   "cell_type": "code",
   "execution_count": 3,
   "id": "696570b8-1a29-4594-87c2-5ac8420f2f07",
   "metadata": {},
   "outputs": [],
   "source": [
    "outputdir= '/glade/campaign/cgd/tss/people/aswann/flat10/'\n",
    "\n",
    "modellist_orig= ['ACCESS-ESM1-5',  \n",
    "            'CESM2',    \n",
    "            'GFDL-ESM4',  \n",
    "            'GISS_E2.1',  \n",
    "            'NorESM2-LM',\n",
    "            'MPI-ESM1-2-LR',\n",
    "            'CNRM-ESM2-1',\n",
    "            'HadCM3LC-Bris',\n",
    "            'UKESM1.2']\n",
    "modellist=modellist_orig\n",
    "\n",
    "runlist = ['flat10','flat10_zec','flat10_cdr']\n",
    "# use a wildcard to capture different ways the folders and runs are named across models\n",
    "runlist_wc = ['*lat10','*zec','*cdr']\n",
    "\n",
    "varlist_load=['cVeg','cSoil','cLitter','nbp','gpp','rh'] #, 'gpp','fgco2', 'ra', 'rh']#, 'npp'] # not working beyond nbp for norESM\n",
    "varlist_analyze=['cVeg','cSoil','cTot','cLitter','nbp','gpp','rh']\n",
    "varlist=varlist_load\n",
    "unitslist=['kgC m-2','kgC m-2','kgC m-2','kgC m-2 s-1','kgC m-2 s-1','kgC m-2 s-1']\n",
    "\n",
    "# there seems to be a problem with ra for NorESM\n",
    "\n",
    "modelcolors=['tab:blue','tab:orange','tab:green','tab:red','tab:gray','tab:purple','tab:cyan','gold','tab:brown']\n"
   ]
  },
  {
   "cell_type": "code",
   "execution_count": 4,
   "id": "d5fdfe1f-8f5f-4b7f-9a13-41dc726d47d8",
   "metadata": {},
   "outputs": [],
   "source": [
    "#unitconversions\n",
    "sperday=60*60*24\n",
    "speryr=60*60*24*365\n",
    "\n",
    "PgperKg = 1e-12\n",
    "# to convert kg m-2 s-1 to kg/m2/yr multiply by speryr"
   ]
  },
  {
   "cell_type": "code",
   "execution_count": 5,
   "id": "b6505e32-b23b-411f-adb1-21e43074dc35",
   "metadata": {},
   "outputs": [],
   "source": [
    "# initialize a dictionary to hold all of the data\n",
    "data_dict={}"
   ]
  },
  {
   "cell_type": "markdown",
   "id": "d81c8895-17ae-4900-94b7-1f42c6e46356",
   "metadata": {},
   "source": [
    "### Define Functions"
   ]
  },
  {
   "cell_type": "markdown",
   "id": "30a6ebb4-ee34-48eb-9130-cc6b6c9a00bf",
   "metadata": {},
   "source": [
    "### Load grid info"
   ]
  },
  {
   "cell_type": "code",
   "execution_count": 6,
   "id": "b8ad47bd-e0ba-4804-a188-d70a4750c163",
   "metadata": {},
   "outputs": [
    {
     "name": "stderr",
     "output_type": "stream",
     "text": [
      "/glade/u/apps/opt/conda/envs/npl-2023b/lib/python3.10/site-packages/xarray/core/options.py:115: FutureWarning: The enable_cftimeindex option is now a no-op and will be removed in a future version of xarray.\n",
      "  warnings.warn(\n"
     ]
    },
    {
     "name": "stdout",
     "output_type": "stream",
     "text": [
      "ACCESS-ESM1-5 getting grid info\n",
      "CESM2 getting grid info\n",
      "GFDL-ESM4 getting grid info\n",
      "GISS_E2.1 getting grid info\n",
      "NorESM2-LM getting grid info\n",
      "MPI-ESM1-2-LR getting grid info\n",
      "CNRM-ESM2-1 getting grid info\n",
      "HadCM3LC-Bris getting grid info\n",
      "UKESM1.2 getting grid info\n"
     ]
    }
   ],
   "source": [
    "data_dict = load_grid(data_dict,modellist)"
   ]
  },
  {
   "cell_type": "markdown",
   "id": "f015eb07-826f-4119-8538-c69e386d7804",
   "metadata": {},
   "source": [
    "### Load data"
   ]
  },
  {
   "cell_type": "code",
   "execution_count": null,
   "id": "51b17a23-6978-41eb-84e3-43954d26a0ac",
   "metadata": {},
   "outputs": [
    {
     "name": "stdout",
     "output_type": "stream",
     "text": [
      "loading model: ACCESS-ESM1-5\n",
      "loading run: *lat10\n",
      "loading variable: cVeg\n"
     ]
    },
    {
     "name": "stderr",
     "output_type": "stream",
     "text": [
      "/glade/u/apps/opt/conda/envs/npl-2023b/lib/python3.10/site-packages/xarray/core/options.py:115: FutureWarning: The enable_cftimeindex option is now a no-op and will be removed in a future version of xarray.\n",
      "  warnings.warn(\n"
     ]
    },
    {
     "name": "stdout",
     "output_type": "stream",
     "text": [
      "loading variable: cSoil\n",
      "loading variable: cLitter\n",
      "loading variable: nbp\n",
      "loading variable: gpp\n",
      "loading variable: rh\n",
      "adding ACCESS-ESM1-5 flat10 to dict\n",
      "loading run: *zec\n",
      "loading variable: cVeg\n",
      "loading variable: cSoil\n",
      "loading variable: cLitter\n",
      "loading variable: nbp\n"
     ]
    }
   ],
   "source": [
    "data_dict=load_flat10(data_dict, modellist, runlist, runlist_wc, varlist)"
   ]
  },
  {
   "cell_type": "code",
   "execution_count": null,
   "id": "d53b32c8-9762-47dd-9ef6-e44fe86db072",
   "metadata": {},
   "outputs": [],
   "source": [
    "modellist=modellist_orig\n",
    "varlist=varlist_analyze"
   ]
  },
  {
   "cell_type": "code",
   "execution_count": null,
   "id": "b37ab15a-7d78-407e-9a98-3cd891350559",
   "metadata": {},
   "outputs": [],
   "source": [
    "ds=data_dict[modellist[0] +'_' +runlist[0]]\n",
    "ds\n"
   ]
  },
  {
   "cell_type": "code",
   "execution_count": null,
   "id": "903aacaf-e419-46b2-a63f-f8641a60f889",
   "metadata": {},
   "outputs": [],
   "source": [
    "# grid for GISS has correct dimensions but different lat values at polar most gridcell\n",
    "# the grid file came from PCMDI because GISS didn't supply a grid file\n",
    "# not fixing this at the moment, but it could become a problem later\n",
    "\n",
    "fig = plt.figure(figsize=(12,3))\n",
    "ds= data_dict['GISS_E2.1_' +runlist[0]]\n",
    "landfrac= data_dict['GISS_E2.1_' +'landfrac']\n",
    "\n",
    "plt.plot(ds.lat,np.ones(len(ds.lat)),'.')\n",
    "plt.plot(landfrac.lat,1.1*np.ones(len(landfrac.lat)),'.',color='red')\n",
    "plt.ylim([0,2])\n"
   ]
  },
  {
   "cell_type": "markdown",
   "id": "764f7c7c-607f-413f-83ff-8d4efe857e81",
   "metadata": {},
   "source": [
    "# Calculate Metrics"
   ]
  },
  {
   "cell_type": "markdown",
   "id": "b12ff387-6f89-47c5-91f9-d03232d9d8d3",
   "metadata": {},
   "source": [
    "### zonal average land sink\n",
    "\n",
    "Zonal average land sink is calculated from total carbon on land averaged into latitude bands"
   ]
  },
  {
   "cell_type": "code",
   "execution_count": null,
   "id": "3a6492a9-3c4c-4af7-962b-93a2c45d60f5",
   "metadata": {},
   "outputs": [],
   "source": [
    "# example for one model and one experiment\n",
    "# needs a loop to be broadcast to all runs\n",
    "#m=0\n",
    "#e=0\n",
    "#var='cTot'\n",
    "\n",
    "#- initialize\n",
    "C_global_mat= np.empty([350,len(modellist),len(runlist),len(varlist)])\n",
    "C_highlat_mat= np.empty([350,len(modellist),len(runlist),len(varlist)])\n",
    "C_troplat_mat= np.empty([350,len(modellist),len(runlist),len(varlist)])\n",
    "C_midlat_mat= np.empty([350,len(modellist),len(runlist),len(varlist)])\n",
    "\n",
    "# create a time series of years for the first dimension\n",
    "ts= np.arange(350)\n",
    "\n",
    "for m in range(len(modellist)):\n",
    "#for m in range(len(['GFDL-ESM4',  'GISS_E2.1',  'NorESM2-LM','MPI-ESM1-2-LR'])):\n",
    "    model=modellist[m]\n",
    "    print('loading model: ' +model)\n",
    "    #----loop over experiments----# \n",
    "    for e in range(len(runlist)):\n",
    "        run = runlist[e]\n",
    "        print('loading run: ' +run)\n",
    "\n",
    "\n",
    "        ds=data_dict[modellist[m] +'_' +runlist[e]]\n",
    "        ds_area = data_dict[modellist[m] +'_' +'areacella']\n",
    "        ds_landfrac = data_dict[modellist[m] +'_' +'landfrac']\n",
    "        #area = ds_area['areacella'].expand_dims(dim={'time': ds.time.size}, axis=0)\n",
    "        #landfrac=ds_landfrac['sftlf'].expand_dims(dim={'time': ds.time.size}, axis=0)\n",
    "        \n",
    "        \n",
    "        if model=='CESM2':\n",
    "            area = ds_area['areacella'].squeeze().reindex_like(ds, method='nearest',tolerance=0.05)\n",
    "        else:\n",
    "            area = ds_area['areacella'].reindex_like(ds, method='nearest',tolerance=0.05)\n",
    "        \n",
    "        landfrac=ds_landfrac['sftlf'].reindex_like(ds, method='nearest',tolerance=0.05)\n",
    "        \n",
    "        if landfrac.max(dim=['lat','lon'])>1: #test if landfrac is on a 0-100 or 0-1 scale\n",
    "            landfrac=landfrac/100\n",
    "            \n",
    "        landarea=area*landfrac\n",
    "        \n",
    "        troplat=30\n",
    "        highlat=60\n",
    "        \n",
    "\n",
    "\n",
    "        #----loop over variables----#\n",
    "        for v in range(len(varlist)):\n",
    "            var=varlist[v]\n",
    "            #print('loading variable: ' +var)\n",
    "\n",
    "            data_var= weighted_temporal_mean(ds, var)\n",
    "\n",
    "            # total carbon on land. Becuase it is in units of carbon/area (kgC/m2), multiply by area\n",
    "            # our area variable is in m2\n",
    "            C_global =(((data_var*landarea)).sum(dim=['lat','lon']))\n",
    "            C_highlat=((data_var*landarea).where(ds.lat>=highlat)).sum(dim=['lat','lon'])\n",
    "            C_troplat=((data_var*landarea).where((ds.lat>=-troplat) & (ds.lat<=troplat))).sum(dim=['lat','lon'])\n",
    "            C_midlat=((data_var*landarea).where((ds.lat>=troplat) & (ds.lat<=highlat))).sum(dim=['lat','lon'])\n",
    "\n",
    "            #put into matrix and convert to PgC (kgC => PgC, divide by 10^12)\n",
    "            C_global_mat[0:len(C_global),m,e,v]= C_global*PgperKg\n",
    "            C_highlat_mat[0:len(C_global),m,e,v]= C_highlat*PgperKg\n",
    "            C_troplat_mat[0:len(C_global),m,e,v]= C_troplat*PgperKg\n",
    "            C_midlat_mat[0:len(C_global),m,e,v]= C_midlat*PgperKg\n",
    "\n",
    "\n",
    "\n",
    "\n",
    "## for per area variables need area weighting\n",
    "#cTot_global = (((ds[var]*landarea)).sum(dim=['lat','lon']))/(landarea.sum(dim=['lat','lon']))\n",
    "#cTot_highlat=((ds[var]*landarea).where(ds.lat>=highlat)).sum(dim=['lat','lon'])/(landarea.where(ds.lat>=highlat).sum(dim=['lat','lon']))\n",
    "#cTot_troplat=((ds[var]*landarea).where((ds.lat>=-troplat) & (ds.lat<=troplat))).sum(dim=['lat','lon'])/(landarea.where((ds.lat>=-troplat) & (ds.lat<=troplat)).sum(dim=['lat','lon']))\n",
    "#cTot_midlat=((ds[var]*landarea).where((ds.lat>=troplat) & (ds.lat<=highlat))).sum(dim=['lat','lon'])/(landarea.where((ds.lat>=troplat) & (ds.lat<=highlat)).sum(dim=['lat','lon']))\n",
    "\n",
    "\n",
    " #----merge all variables into one dataset----#\n",
    "# if it's the first variable, then start a new datset, otherwise merge with existing\n",
    "#if v ==0:\n",
    "#    ds_cTot_global = cTot_global.copy()\n",
    "#else:\n",
    "#    #dsmerge_v=xr.merge([dsmerge_v, dsmerge_f])\n",
    "#    ds_cTot_global = xr.merge([ds_cTot_global, cTot_global])\n",
    "\n",
    "#dsmerge_v=xr.merge([dsmerge_v, dsmerge_f])"
   ]
  },
  {
   "cell_type": "code",
   "execution_count": null,
   "id": "ec86f798-b13d-4248-aede-063d0f1b88bf",
   "metadata": {},
   "outputs": [],
   "source": [
    "ds_area"
   ]
  },
  {
   "cell_type": "code",
   "execution_count": null,
   "id": "aecbf9a2-57f0-4e76-8430-dea01d4a0498",
   "metadata": {},
   "outputs": [],
   "source": [
    "# put the matrix into an xarray dataset\n",
    "latlist=['global','highlat','troplat','midlat']\n",
    "\n",
    "data_array_combined = np.full((len(ts), len(modellist), len(runlist), len(varlist), len(latlist)),np.nan)\n",
    "\n",
    "data_array_combined[:,:,:,:,0]=C_global_mat\n",
    "data_array_combined[:,:,:,:,1]=C_highlat_mat\n",
    "data_array_combined[:,:,:,:,2]=C_troplat_mat\n",
    "data_array_combined[:,:,:,:,3]=C_midlat_mat"
   ]
  },
  {
   "cell_type": "code",
   "execution_count": null,
   "id": "2270d6f7-588a-4a58-a92c-f35a11afd41c",
   "metadata": {},
   "outputs": [],
   "source": [
    "np.shape(data_array_combined)"
   ]
  },
  {
   "cell_type": "code",
   "execution_count": null,
   "id": "129c80c7-b1b0-400f-a329-a5c1c25eaa3c",
   "metadata": {},
   "outputs": [],
   "source": [
    "\n",
    "\n",
    "ds_C_global= xr.Dataset(\n",
    "    {\n",
    "        \"data\": ([\"time\", \"model\", \"run\", \"var\",\"latrange\"], data_array_combined)\n",
    "    },\n",
    "    coords={\n",
    "        \"time\": ts,\n",
    "        \"model\": modellist,\n",
    "        \"run\": runlist,\n",
    "        \"var\": varlist,\n",
    "        \"latrange\": latlist\n",
    "    }\n",
    ")"
   ]
  },
  {
   "cell_type": "code",
   "execution_count": null,
   "id": "eee4e842-df88-4715-abfc-c866c947f87d",
   "metadata": {},
   "outputs": [],
   "source": [
    "ds_C_global"
   ]
  },
  {
   "cell_type": "code",
   "execution_count": null,
   "id": "bba55086-c525-4752-8835-002bacd86636",
   "metadata": {},
   "outputs": [],
   "source": [
    "# - save the matrix to a netcdf file\n",
    "\n",
    "ds_C_global.to_netcdf(\"C_metrics_matrix.nc\")"
   ]
  },
  {
   "cell_type": "code",
   "execution_count": null,
   "id": "48a8489d-d1f8-434d-8fde-555e34267817",
   "metadata": {},
   "outputs": [],
   "source": [
    "# to load data from this ds\n",
    "\n",
    "# Access data for one model, run, var, latrange\n",
    "\n",
    "subset = ds_C_global.sel(model=modellist[0], run=runlist[2], var='cTot', latrange='global')\n",
    "\n",
    "print(subset)\n",
    "\n",
    "subset.data[0:200].plot()"
   ]
  },
  {
   "cell_type": "markdown",
   "id": "0bd96b21-fef5-47d0-ab8e-1d766786a0df",
   "metadata": {},
   "source": [
    "# #---------# Snippets below #-----------#"
   ]
  },
  {
   "cell_type": "code",
   "execution_count": null,
   "id": "85ff932e-e2d5-4be5-aae3-b5ee97570310",
   "metadata": {},
   "outputs": [],
   "source": []
  },
  {
   "cell_type": "code",
   "execution_count": null,
   "id": "1e115acb-058b-410e-b52c-5ea999a644f3",
   "metadata": {},
   "outputs": [],
   "source": []
  },
  {
   "cell_type": "code",
   "execution_count": null,
   "id": "480f892d-191b-425b-bf2b-b03a04706f88",
   "metadata": {},
   "outputs": [],
   "source": []
  },
  {
   "cell_type": "code",
   "execution_count": null,
   "id": "78455144-77fb-476b-a563-d9a348a0215e",
   "metadata": {},
   "outputs": [],
   "source": []
  },
  {
   "cell_type": "code",
   "execution_count": null,
   "id": "24ccc17a-2ce5-425a-8390-b3bfc0561da6",
   "metadata": {},
   "outputs": [],
   "source": []
  },
  {
   "cell_type": "code",
   "execution_count": null,
   "id": "7466c006-2ca7-455d-8fa0-af5fdf9ea729",
   "metadata": {},
   "outputs": [],
   "source": []
  },
  {
   "cell_type": "code",
   "execution_count": null,
   "id": "27421d3f-eeed-43b1-b493-d3119fb99ca2",
   "metadata": {},
   "outputs": [],
   "source": []
  }
 ],
 "metadata": {
  "kernelspec": {
   "display_name": "NPL 2023b",
   "language": "python",
   "name": "npl-2023b"
  },
  "language_info": {
   "codemirror_mode": {
    "name": "ipython",
    "version": 3
   },
   "file_extension": ".py",
   "mimetype": "text/x-python",
   "name": "python",
   "nbconvert_exporter": "python",
   "pygments_lexer": "ipython3",
   "version": "3.10.12"
  }
 },
 "nbformat": 4,
 "nbformat_minor": 5
}
